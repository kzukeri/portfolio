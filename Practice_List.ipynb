{
  "nbformat": 4,
  "nbformat_minor": 0,
  "metadata": {
    "colab": {
      "provenance": [],
      "include_colab_link": true
    },
    "kernelspec": {
      "name": "python3",
      "display_name": "Python 3"
    },
    "language_info": {
      "name": "python"
    }
  },
  "cells": [
    {
      "cell_type": "markdown",
      "metadata": {
        "id": "view-in-github",
        "colab_type": "text"
      },
      "source": [
        "<a href=\"https://colab.research.google.com/github/kzukeri/portfolio/blob/main/Practice_List.ipynb\" target=\"_parent\"><img src=\"https://colab.research.google.com/assets/colab-badge.svg\" alt=\"Open In Colab\"/></a>"
      ]
    },
    {
      "cell_type": "code",
      "execution_count": null,
      "metadata": {
        "colab": {
          "base_uri": "https://localhost:8080/"
        },
        "id": "rCvvUaKLI_5V",
        "outputId": "db8fe88b-32c3-48ce-89a4-052e950a1c1c"
      },
      "outputs": [
        {
          "output_type": "stream",
          "name": "stdout",
          "text": [
            "[1, 2, 3, 4, 5]\n",
            "['Hello', 'Goodbye']\n",
            "[0.87, 'hello', True, 17]\n"
          ]
        }
      ],
      "source": [
        "int_list = [1, 2, 3, 4, 5]\n",
        "string_list = [\"Hello\", \"Goodbye\"]\n",
        "mixed_list = [0.87, \"hello\", True, 17]\n",
        "\n",
        "print(int_list)\n",
        "print(string_list)\n",
        "print(mixed_list)\n",
        "\n"
      ]
    },
    {
      "cell_type": "code",
      "source": [
        "numbers = [1, 2, 3, 4]\n",
        "\n",
        "for number in numbers:\n",
        "  print(number)\n",
        "\n",
        "\n"
      ],
      "metadata": {
        "id": "dQsPzDrkMDEV"
      },
      "execution_count": null,
      "outputs": []
    },
    {
      "cell_type": "code",
      "source": [
        "numbers = [1,2,3,4]\n",
        "length = len(numbers)\n",
        "i = 0\n",
        "\n",
        "while i < length:\n",
        "    print(\"yes\")"
      ],
      "metadata": {
        "id": "g0idzx3iH4dT"
      },
      "execution_count": null,
      "outputs": []
    },
    {
      "cell_type": "code",
      "source": [
        "Students = []\n",
        "print(Students)"
      ],
      "metadata": {
        "colab": {
          "base_uri": "https://localhost:8080/"
        },
        "id": "fCayVsoKKBYL",
        "outputId": "95902df3-47fc-47a1-915c-c1cfc507475b"
      },
      "execution_count": null,
      "outputs": [
        {
          "output_type": "stream",
          "name": "stdout",
          "text": [
            "[]\n"
          ]
        }
      ]
    },
    {
      "cell_type": "code",
      "source": [
        "Students1 = [\"Amy\",\"Andy\", \"Anna\"]\n",
        "Students2 = [\"Anna\", \"John\", \"Kathy\"]\n",
        "print(Students1)\n",
        "print(Students1 + Students2)"
      ],
      "metadata": {
        "colab": {
          "base_uri": "https://localhost:8080/"
        },
        "id": "sktn8EeQK-Sp",
        "outputId": "6c16879a-3cba-4547-9fab-66d12eebab57"
      },
      "execution_count": null,
      "outputs": [
        {
          "output_type": "stream",
          "name": "stdout",
          "text": [
            "['Amy', 'Andy', 'Anna']\n",
            "['Amy', 'Andy', 'Anna', 'Anna', 'John', 'Kathy']\n"
          ]
        }
      ]
    },
    {
      "cell_type": "code",
      "source": [
        "Students1[0] = \"Ashley\"\n",
        "#Students[1] = \"Andrew\"\n",
        "print(Students1)\n",
        "\n",
        "#print(\"Anna\" in Students)\n"
      ],
      "metadata": {
        "colab": {
          "base_uri": "https://localhost:8080/"
        },
        "id": "RMTKcOb_KiMr",
        "outputId": "337ccc4e-d658-46c8-8564-74b7de4766cb"
      },
      "execution_count": null,
      "outputs": [
        {
          "output_type": "stream",
          "name": "stdout",
          "text": [
            "['Ashley', 'Andrew', 'Anna']\n"
          ]
        }
      ]
    },
    {
      "cell_type": "code",
      "source": [
        "my_list = [\"red\", \"orange\", \"yellow\", \"green\"]\n",
        "my_slice = my_list[0:2]\n",
        "\n",
        "print(my_slice)\n"
      ],
      "metadata": {
        "colab": {
          "base_uri": "https://localhost:8080/"
        },
        "id": "huj4n0EUNWI5",
        "outputId": "26258393-97f9-44f3-9729-801a04d8d7d4"
      },
      "execution_count": null,
      "outputs": [
        {
          "output_type": "stream",
          "name": "stdout",
          "text": [
            "['red', 'orange']\n"
          ]
        }
      ]
    },
    {
      "cell_type": "code",
      "source": [
        "my_list = [23, 55, 11, 7, 82.9, -14, 0, 34]\n",
        "#print(my_list)\n",
        "my_list.sort(reverse=True)\n",
        "print(my_list)\n"
      ],
      "metadata": {
        "colab": {
          "base_uri": "https://localhost:8080/"
        },
        "id": "S6YubIKXOwgC",
        "outputId": "5c5ed8c7-6a7c-4d99-945d-4afe4d812f5c"
      },
      "execution_count": null,
      "outputs": [
        {
          "output_type": "stream",
          "name": "stdout",
          "text": [
            "[82.9, 55, 34, 23, 11, 7, 0, -14]\n"
          ]
        }
      ]
    },
    {
      "cell_type": "code",
      "source": [
        "grades = [\"B\",\"B\",\"B\"]\n",
        "#print(grades)\n",
        "\n",
        "update =\"C\"\n",
        "#grades.append(update)\n",
        "print(grades)\n",
        "\n",
        "grades.append(\"C\")\n",
        "print(grades)\n",
        "\n"
      ],
      "metadata": {
        "colab": {
          "base_uri": "https://localhost:8080/"
        },
        "id": "iHOQrbO7OX6C",
        "outputId": "bda7eb82-9b75-4c85-b85e-2e8e08bbe3ca"
      },
      "execution_count": null,
      "outputs": [
        {
          "output_type": "stream",
          "name": "stdout",
          "text": [
            "['B', 'B', 'B']\n",
            "['B', 'B', 'B', 'C']\n"
          ]
        }
      ]
    },
    {
      "cell_type": "code",
      "source": [
        "print(grades)\n",
        "\n",
        "grades[2]=\"A\"\n",
        "\n",
        "print(grades)\n",
        "\n",
        "names = [\"Ajeune\", \"Kerneka\", \"Modupe\"]\n",
        "names1= [\"DaQuan\", \"Leah\", \"Lori\"]\n",
        "names2 = ['Alice', 'Bob', 'Charlie']\n",
        "\n"
      ],
      "metadata": {
        "id": "kUPLsjMdQDbt"
      },
      "execution_count": null,
      "outputs": []
    },
    {
      "cell_type": "code",
      "source": [
        "Names = names +names1 + names2 + names + names\n",
        "print(Names)\n",
        "\n",
        "if \"Alice\" in Names:\n",
        "  print(\"Alice is in the list\")\n"
      ],
      "metadata": {
        "id": "4X3BabSwRFL0"
      },
      "execution_count": null,
      "outputs": []
    },
    {
      "cell_type": "code",
      "source": [
        "my_list = [] #empty list\n",
        "print(my_list)\n",
        "type(my_list)"
      ],
      "metadata": {
        "id": "V7Eo7qQyJgXL"
      },
      "execution_count": null,
      "outputs": []
    },
    {
      "cell_type": "code",
      "source": [
        "my_money = [red for red in range(1, 5)]\n",
        "\n",
        "print(my_money)\n"
      ],
      "metadata": {
        "id": "8DcS4mA9JXKv"
      },
      "execution_count": null,
      "outputs": []
    },
    {
      "cell_type": "code",
      "source": [
        "my_list = [5, 10, 15, 20]\n",
        "\n",
        "print(my_list[-2])\n"
      ],
      "metadata": {
        "id": "aQw70pCQKmYw"
      },
      "execution_count": null,
      "outputs": []
    },
    {
      "cell_type": "code",
      "source": [
        "my_list = [\"Amy\", 5, \"Mike\"]\n",
        "print(my_list)\n",
        "\n",
        "my_list[0] = \"Ami\"\n",
        "my_list[1] = 5\n",
        "my_list[2] = 6\n",
        "print(my_list)\n"
      ],
      "metadata": {
        "id": "AwQXpvYGK60D"
      },
      "execution_count": null,
      "outputs": []
    },
    {
      "cell_type": "code",
      "source": [
        "list_1 = [1, 2, 3]\n",
        "list_2 = [4, \"Amy\", 6]\n",
        "\n",
        "print(list_1 + list_2)\n"
      ],
      "metadata": {
        "id": "ah1M9-W7Lm6a"
      },
      "execution_count": null,
      "outputs": []
    },
    {
      "cell_type": "code",
      "source": [
        "list_1 = [\"Hi!\"]\n",
        "\n",
        "print(list_1 * 4)\n"
      ],
      "metadata": {
        "id": "Dmeh0TZCL0Z-"
      },
      "execution_count": null,
      "outputs": []
    },
    {
      "cell_type": "code",
      "source": [
        "my_list = [\"red\", \"orange\", \"yellow\", \"green\"]\n",
        "\n",
        "print(\"Red\" in my_list)\n"
      ],
      "metadata": {
        "colab": {
          "base_uri": "https://localhost:8080/"
        },
        "id": "-VOtYZM_L8x9",
        "outputId": "2f7c46cb-ff5d-4224-81f4-38b50e2e8063"
      },
      "execution_count": null,
      "outputs": [
        {
          "output_type": "stream",
          "name": "stdout",
          "text": [
            "False\n"
          ]
        }
      ]
    },
    {
      "cell_type": "code",
      "source": [
        "list_1 = [12, 66, 52, 97, 28, 41, 7]\n",
        "list_2 = [68, True, 34, False, 41.897, \"apple\"]\n",
        "\n",
        "if len(list_1) > len(list_2):\n",
        "    print(\"list_1 is longer than list_2\")\n",
        "elif len(list_1) == len(list_2):\n",
        "    print(\"list_1 and list_2 are the same length\")\n",
        "else:\n",
        "    print(\"list_2 is longer than list_1\")\n",
        "\n",
        "print(len(list_1))\n",
        "print(len(list_2))"
      ],
      "metadata": {
        "colab": {
          "base_uri": "https://localhost:8080/"
        },
        "id": "vsPZRHQEMOBS",
        "outputId": "0cba05bf-e5a5-4312-fc47-3551cd8ec1a8"
      },
      "execution_count": null,
      "outputs": [
        {
          "output_type": "stream",
          "name": "stdout",
          "text": [
            "list_1 is longer than list_2\n",
            "7\n",
            "6\n"
          ]
        }
      ]
    },
    {
      "cell_type": "code",
      "source": [
        "my_list = [\"red\", \"orange\", \"yellow\", \"green\"]\n",
        "my_slice = my_list[0:1]\n",
        "\n",
        "print(my_list)\n"
      ],
      "metadata": {
        "colab": {
          "base_uri": "https://localhost:8080/"
        },
        "id": "dEv0G-8UNX8z",
        "outputId": "c55e4804-9031-4bb2-9bea-647e54802b4c"
      },
      "execution_count": null,
      "outputs": [
        {
          "output_type": "stream",
          "name": "stdout",
          "text": [
            "['red', 'orange', 'yellow', 'green']\n"
          ]
        }
      ]
    },
    {
      "cell_type": "code",
      "source": [
        "my_list = [1, 2, 3]\n",
        "#new_element = 4\n",
        "#print(my_list)\n",
        "\n",
        "\n",
        "my_list.append(new_element)\n",
        "print(my_list)\n"
      ],
      "metadata": {
        "colab": {
          "base_uri": "https://localhost:8080/"
        },
        "id": "YMFiL6GkO4mf",
        "outputId": "bc87429e-5a67-4ecb-fc7a-799d2c5a2077"
      },
      "execution_count": null,
      "outputs": [
        {
          "output_type": "stream",
          "name": "stdout",
          "text": [
            "[1, 2, 3, 4]\n"
          ]
        }
      ]
    },
    {
      "cell_type": "code",
      "source": [
        "my_list = [1, 2, 3, 4]\n",
        "print(my_list)\n",
        "print(my_list.pop(2))\n",
        "print(my_list)\n"
      ],
      "metadata": {
        "colab": {
          "base_uri": "https://localhost:8080/"
        },
        "id": "6KTDxpC1P3Om",
        "outputId": "a4e046f5-4cb0-4320-e40b-c92883c88edf"
      },
      "execution_count": null,
      "outputs": [
        {
          "output_type": "stream",
          "name": "stdout",
          "text": [
            "[1, 2, 3, 4]\n",
            "3\n",
            "[1, 2, 4]\n"
          ]
        }
      ]
    },
    {
      "cell_type": "code",
      "source": [
        "my_list = [1, 2, 3, 4]\n",
        "my_list.insert(2, \"Hi\")\n",
        "print(my_list)\n"
      ],
      "metadata": {
        "colab": {
          "base_uri": "https://localhost:8080/"
        },
        "id": "1S9E5-lWQ6a7",
        "outputId": "6964d64f-dcc3-48e5-a61a-adfbc669d8cc"
      },
      "execution_count": null,
      "outputs": [
        {
          "output_type": "stream",
          "name": "stdout",
          "text": [
            "[1, 2, 'Hi', 3, 4]\n"
          ]
        }
      ]
    },
    {
      "cell_type": "code",
      "source": [
        "my_list = [\"Amy\", \"Tom!\", 3, 3, 4]\n",
        "my_list.remove(\"Tom\")\n",
        "print(my_list)\n"
      ],
      "metadata": {
        "colab": {
          "base_uri": "https://localhost:8080/"
        },
        "id": "9S2FtuG8REG-",
        "outputId": "7a89057f-630b-478f-b590-125d66f7b185"
      },
      "execution_count": null,
      "outputs": [
        {
          "output_type": "stream",
          "name": "stdout",
          "text": [
            "['Amy', 3, 3, 4]\n"
          ]
        }
      ]
    },
    {
      "cell_type": "code",
      "source": [
        "my_var = 2\n",
        "my_list = [2, \"red\", 2.0, my_var, \"Red\", 8 // 4]\n",
        "print(my_list)\n",
        "print(my_list.count(\"Red\"))\n"
      ],
      "metadata": {
        "colab": {
          "base_uri": "https://localhost:8080/"
        },
        "id": "WpNHKkjDRo8D",
        "outputId": "ec9e1b06-8f19-493f-bfab-143c3556eb61"
      },
      "execution_count": null,
      "outputs": [
        {
          "output_type": "stream",
          "name": "stdout",
          "text": [
            "[2, 'red', 2.0, 2, 'Red', 2]\n",
            "1\n"
          ]
        }
      ]
    },
    {
      "cell_type": "code",
      "source": [
        "my_list = [\"amy\", \"tom\", \"deniece\", ]\n",
        "print(my_list)\n",
        "my_list.sort()\n",
        "print(my_list)\n"
      ],
      "metadata": {
        "colab": {
          "base_uri": "https://localhost:8080/"
        },
        "id": "yd-0PAFlSZwy",
        "outputId": "ba68019e-b45e-42cc-bd2a-f5df4ab1bb9a"
      },
      "execution_count": null,
      "outputs": [
        {
          "output_type": "stream",
          "name": "stdout",
          "text": [
            "['amy', 'tom', 'deniece']\n",
            "['amy', 'deniece', 'tom']\n"
          ]
        }
      ]
    },
    {
      "cell_type": "code",
      "source": [
        "my_list = [23, 55, 11, 7, 82.9, -14, 0, 34]\n",
        "my_list.sort()\n",
        "print(my_list)\n",
        "my_list.sort(reverse=False)\n",
        "print(my_list)\n"
      ],
      "metadata": {
        "colab": {
          "base_uri": "https://localhost:8080/"
        },
        "id": "z_6B3zecTJVK",
        "outputId": "617bf028-56e5-4b5c-860e-d88a34f29fc8"
      },
      "execution_count": null,
      "outputs": [
        {
          "output_type": "stream",
          "name": "stdout",
          "text": [
            "[-14, 0, 7, 11, 23, 34, 55, 82.9]\n",
            "[-14, 0, 7, 11, 23, 34, 55, 82.9]\n"
          ]
        }
      ]
    },
    {
      "cell_type": "code",
      "source": [
        "my_list = [1, 2, 3, 4, 5]\n",
        "total = sum(my_list)\n",
        "print(total)\n"
      ],
      "metadata": {
        "colab": {
          "base_uri": "https://localhost:8080/"
        },
        "id": "CIj9ZnQbT1Kc",
        "outputId": "ef80a1ea-cf7d-478b-8107-6dfc58cd5373"
      },
      "execution_count": null,
      "outputs": [
        {
          "output_type": "stream",
          "name": "stdout",
          "text": [
            "15\n"
          ]
        }
      ]
    },
    {
      "cell_type": "code",
      "source": [
        "my_list = [\"abc\", \"def\", \"ghi\"]\n",
        "print(sum(my_list))\n"
      ],
      "metadata": {
        "colab": {
          "base_uri": "https://localhost:8080/",
          "height": 187
        },
        "id": "qaMwIKp2T8sH",
        "outputId": "7ce3948f-9cea-4f12-e9bf-dcd1eff13875"
      },
      "execution_count": null,
      "outputs": [
        {
          "output_type": "error",
          "ename": "TypeError",
          "evalue": "ignored",
          "traceback": [
            "\u001b[0;31m---------------------------------------------------------------------------\u001b[0m",
            "\u001b[0;31mTypeError\u001b[0m                                 Traceback (most recent call last)",
            "\u001b[0;32m<ipython-input-80-ac9119d754c3>\u001b[0m in \u001b[0;36m<cell line: 2>\u001b[0;34m()\u001b[0m\n\u001b[1;32m      1\u001b[0m \u001b[0mmy_list\u001b[0m \u001b[0;34m=\u001b[0m \u001b[0;34m[\u001b[0m\u001b[0;34m\"abc\"\u001b[0m\u001b[0;34m,\u001b[0m \u001b[0;34m\"def\"\u001b[0m\u001b[0;34m,\u001b[0m \u001b[0;34m\"ghi\"\u001b[0m\u001b[0;34m]\u001b[0m\u001b[0;34m\u001b[0m\u001b[0;34m\u001b[0m\u001b[0m\n\u001b[0;32m----> 2\u001b[0;31m \u001b[0mprint\u001b[0m\u001b[0;34m(\u001b[0m\u001b[0msum\u001b[0m\u001b[0;34m(\u001b[0m\u001b[0mmy_list\u001b[0m\u001b[0;34m)\u001b[0m\u001b[0;34m)\u001b[0m\u001b[0;34m\u001b[0m\u001b[0;34m\u001b[0m\u001b[0m\n\u001b[0m",
            "\u001b[0;31mTypeError\u001b[0m: unsupported operand type(s) for +: 'int' and 'str'"
          ]
        }
      ]
    },
    {
      "cell_type": "code",
      "source": [
        "my_list = [45, 12, 9, 1]\n",
        "smallest = min(my_list)\n",
        "print(smallest)\n"
      ],
      "metadata": {
        "colab": {
          "base_uri": "https://localhost:8080/"
        },
        "id": "8lTgOS8LUHR_",
        "outputId": "e0296d4d-6400-4f75-dcab-d2c2cf19fc22"
      },
      "execution_count": null,
      "outputs": [
        {
          "output_type": "stream",
          "name": "stdout",
          "text": [
            "1\n"
          ]
        }
      ]
    },
    {
      "cell_type": "code",
      "source": [
        "my_list = [\"apple\", \"boy\", \"cat\", \"aaron\"]\n",
        "smallest = min(my_list)\n",
        "print(smallest)\n"
      ],
      "metadata": {
        "id": "fgWTKlSpUSDF",
        "outputId": "bacce8d3-c451-4b97-8d47-9ad9a624b540",
        "colab": {
          "base_uri": "https://localhost:8080/"
        }
      },
      "execution_count": null,
      "outputs": [
        {
          "output_type": "stream",
          "name": "stdout",
          "text": [
            "aaron\n"
          ]
        }
      ]
    },
    {
      "cell_type": "code",
      "source": [
        "Tammy = 17 #age\n",
        "\n",
        "\n",
        "if Tammy >= 18:\n",
        "    print(\"Tammy is eligible to vote.\")\n",
        "else:\n",
        "    print(\"Tammy is not eligible to vote.\")"
      ],
      "metadata": {
        "colab": {
          "base_uri": "https://localhost:8080/"
        },
        "id": "HSiFQ7rEaElc",
        "outputId": "ecc5344d-edcb-43d7-c68f-ad47615a9198"
      },
      "execution_count": null,
      "outputs": [
        {
          "output_type": "stream",
          "name": "stdout",
          "text": [
            "Tammy is not eligible to vote.\n"
          ]
        }
      ]
    }
  ]
}