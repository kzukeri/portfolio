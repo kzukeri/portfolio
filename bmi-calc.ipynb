#We will create a program that calculates one's BMI
height=
weight=
bmi=(weight / (height**2)) * 703
print(bmi)
