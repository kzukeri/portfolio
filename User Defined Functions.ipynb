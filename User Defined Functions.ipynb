{
  "nbformat": 4,
  "nbformat_minor": 0,
  "metadata": {
    "colab": {
      "provenance": [],
      "include_colab_link": true
    },
    "kernelspec": {
      "name": "python3",
      "display_name": "Python 3"
    },
    "language_info": {
      "name": "python"
    }
  },
  "cells": [
    {
      "cell_type": "markdown",
      "metadata": {
        "id": "view-in-github",
        "colab_type": "text"
      },
      "source": [
        "<a href=\"https://colab.research.google.com/github/kzukeri/portfolio/blob/main/User%20Defined%20Functions.ipynb\" target=\"_parent\"><img src=\"https://colab.research.google.com/assets/colab-badge.svg\" alt=\"Open In Colab\"/></a>"
      ]
    },
    {
      "cell_type": "code",
      "execution_count": null,
      "metadata": {
        "id": "Lkd87GO2CbK2"
      },
      "outputs": [],
      "source": [
        "def greet_twice():  #header\n",
        "  print(\"Hello\") #f_body\n",
        "  print(\"Hello\")\n"
      ]
    },
    {
      "cell_type": "code",
      "source": [],
      "metadata": {
        "id": "L9oiG9acHWQ5"
      },
      "execution_count": null,
      "outputs": []
    },
    {
      "cell_type": "code",
      "source": [
        "def gr_wo(): #header\n",
        "  print(\"Hello\")  #body\n",
        "  print(\"Hello\")\n",
        "gr_wo() #call\n",
        "\n",
        "\n"
      ],
      "metadata": {
        "colab": {
          "base_uri": "https://localhost:8080/"
        },
        "id": "XdEM5dYGIIEP",
        "outputId": "eb41d76e-6dcc-49ac-90cb-c21a2797f721"
      },
      "execution_count": null,
      "outputs": [
        {
          "output_type": "stream",
          "name": "stdout",
          "text": [
            "Hello\n",
            "Hello\n"
          ]
        }
      ]
    },
    {
      "cell_type": "code",
      "source": [
        "help(len)\n"
      ],
      "metadata": {
        "colab": {
          "base_uri": "https://localhost:8080/"
        },
        "id": "gviJvSJKKesL",
        "outputId": "31d235a2-4c31-452e-e907-6a86c5bae531"
      },
      "execution_count": null,
      "outputs": [
        {
          "output_type": "stream",
          "name": "stdout",
          "text": [
            "Help on built-in function len in module builtins:\n",
            "\n",
            "len(obj, /)\n",
            "    Return the number of items in a container.\n",
            "\n"
          ]
        }
      ]
    },
    {
      "cell_type": "code",
      "source": [
        "def addition(num1, num2): #fun header\n",
        "  #Prints the sum of two numbers\n",
        "  print(num1 + num2)\n",
        "addition(45, 879)\n"
      ],
      "metadata": {
        "colab": {
          "base_uri": "https://localhost:8080/"
        },
        "id": "xW8mr3jmKuqR",
        "outputId": "6a35bc51-2733-4036-af69-f69be4433e04"
      },
      "execution_count": null,
      "outputs": [
        {
          "output_type": "stream",
          "name": "stdout",
          "text": [
            "924\n"
          ]
        }
      ]
    },
    {
      "cell_type": "code",
      "source": [
        "def add_sub(int1, int2, int3):\n",
        "  \"\"\"add_sub does the following: Add the first two parameters Subtract the third paramter Print the result\"\"\"\n",
        "  print(int1 + int2 - int3)\n",
        "\n",
        "add_sub(5,2,38)\n"
      ],
      "metadata": {
        "colab": {
          "base_uri": "https://localhost:8080/"
        },
        "id": "puHhBdBMLlAC",
        "outputId": "58535195-9bff-4506-ba1c-d05bd6a02e07"
      },
      "execution_count": null,
      "outputs": [
        {
          "output_type": "stream",
          "name": "stdout",
          "text": [
            "-31\n"
          ]
        }
      ]
    },
    {
      "cell_type": "code",
      "source": [
        "def addition(num1, string1):\n",
        "  \"\"\"Add the two parameters together\"\"\"\n",
        "  print(num1 + string1)\n",
        "addition(5, \"cat\")\n"
      ],
      "metadata": {
        "colab": {
          "base_uri": "https://localhost:8080/"
        },
        "id": "sN6km7s-NUSM",
        "outputId": "5a7e36f0-03d8-44ea-d8ac-5045c9343b58"
      },
      "execution_count": null,
      "outputs": [
        {
          "output_type": "stream",
          "name": "stdout",
          "text": [
            "catcatcatcatcat\n"
          ]
        }
      ]
    },
    {
      "cell_type": "code",
      "source": [
        "def addition(\"num1\", num2):\n",
        "  \"\"\"Add the two parameters together Use try/except to catch any errors\"\"\"\n",
        "  print(num1\"] + \"num2\")\n",
        "  print(\"There is an error in your code.\")\n",
        "addition(\"dog\", \"cat\")\n"
      ],
      "metadata": {
        "colab": {
          "base_uri": "https://localhost:8080/",
          "height": 133
        },
        "id": "DEArKVggOTC0",
        "outputId": "efb5ad40-178c-49da-c1d4-e1e5d5589747"
      },
      "execution_count": null,
      "outputs": [
        {
          "output_type": "error",
          "ename": "SyntaxError",
          "evalue": "ignored",
          "traceback": [
            "\u001b[0;36m  File \u001b[0;32m\"<ipython-input-45-cffccac85b26>\"\u001b[0;36m, line \u001b[0;32m1\u001b[0m\n\u001b[0;31m    def addition(\"num1\", num2):\u001b[0m\n\u001b[0m                 ^\u001b[0m\n\u001b[0;31mSyntaxError\u001b[0m\u001b[0;31m:\u001b[0m invalid syntax\n"
          ]
        }
      ]
    },
    {
      "cell_type": "code",
      "source": [
        "def add_if_true(num1, num2, bool = True):\n",
        "  \"\"\"Prints the sum of two numbers if the variable bool is true\"\"\"\n",
        "  if bool:\n",
        "    print(num1 + num2)\n",
        "  else:\n",
        "    print(\"No addition, bool is false\")\n",
        "\n",
        "add_if_true(5, 7)\n",
        "add_if_true(5, 7, False)\n"
      ],
      "metadata": {
        "colab": {
          "base_uri": "https://localhost:8080/"
        },
        "id": "Sl_IeDOYOr4B",
        "outputId": "4f8626f7-543a-42c1-b942-6dbcc1ee9f8e"
      },
      "execution_count": null,
      "outputs": [
        {
          "output_type": "stream",
          "name": "stdout",
          "text": [
            "12\n",
            "No addition, bool is false\n"
          ]
        }
      ]
    },
    {
      "cell_type": "code",
      "source": [],
      "metadata": {
        "id": "AyiP0tXNSBFB"
      },
      "execution_count": null,
      "outputs": []
    },
    {
      "cell_type": "code",
      "source": [
        "def funti():\n",
        "  print(my_var)\n",
        "\n",
        "def function_2():\n",
        "  print(my_var)\n",
        "\n",
        "function_1()\n",
        "function_2()\n"
      ],
      "metadata": {
        "colab": {
          "base_uri": "https://localhost:8080/",
          "height": 133
        },
        "id": "uTLr4xEUP1J6",
        "outputId": "995aea74-2599-4ae1-cb0f-bcbb81e34617"
      },
      "execution_count": null,
      "outputs": [
        {
          "output_type": "error",
          "ename": "SyntaxError",
          "evalue": "ignored",
          "traceback": [
            "\u001b[0;36m  File \u001b[0;32m\"<ipython-input-55-f695ded2dce9>\"\u001b[0;36m, line \u001b[0;32m1\u001b[0m\n\u001b[0;31m    def():\u001b[0m\n\u001b[0m       ^\u001b[0m\n\u001b[0;31mSyntaxError\u001b[0m\u001b[0;31m:\u001b[0m invalid syntax\n"
          ]
        }
      ]
    },
    {
      "cell_type": "code",
      "source": [
        "my_var = \"Hello\"\n",
        "\n",
        "def function_1():\n",
        "  print(my_var)\n",
        "\n",
        "def function_2():\n",
        "  my_var = \"Bonjour\"\n",
        "  print(my_var)\n",
        "\n",
        "function_1()\n",
        "function_2()\n"
      ],
      "metadata": {
        "colab": {
          "base_uri": "https://localhost:8080/"
        },
        "id": "aGRnAH7lQJg9",
        "outputId": "e2b74ca5-1a75-42bd-dc27-51047667c111"
      },
      "execution_count": null,
      "outputs": [
        {
          "output_type": "stream",
          "name": "stdout",
          "text": [
            "Hello\n",
            "Bonjour\n"
          ]
        }
      ]
    },
    {
      "cell_type": "code",
      "source": [
        "my_var = 5\n",
        "\n",
        "def cost_trip():\n",
        "  print(my_var*5/1807/333)\n",
        "\n",
        "def Fall_budget():\n",
        "  print(my_var*2*)\n",
        "\n",
        "function_1()\n",
        "function_2()\n"
      ],
      "metadata": {
        "colab": {
          "base_uri": "https://localhost:8080/",
          "height": 347
        },
        "id": "jx6ryl2lSCPe",
        "outputId": "5eaa71c0-3a64-4ad6-c60c-2e9d6dcb32ab"
      },
      "execution_count": null,
      "outputs": [
        {
          "output_type": "stream",
          "name": "stdout",
          "text": [
            "4.1546804136732196e-05\n"
          ]
        },
        {
          "output_type": "error",
          "ename": "NameError",
          "evalue": "ignored",
          "traceback": [
            "\u001b[0;31m---------------------------------------------------------------------------\u001b[0m",
            "\u001b[0;31mNameError\u001b[0m                                 Traceback (most recent call last)",
            "\u001b[0;32m<ipython-input-54-2b9771360819>\u001b[0m in \u001b[0;36m<cell line: 11>\u001b[0;34m()\u001b[0m\n\u001b[1;32m      9\u001b[0m \u001b[0;34m\u001b[0m\u001b[0m\n\u001b[1;32m     10\u001b[0m \u001b[0mcooking\u001b[0m\u001b[0;34m(\u001b[0m\u001b[0;34m)\u001b[0m\u001b[0;34m\u001b[0m\u001b[0;34m\u001b[0m\u001b[0m\n\u001b[0;32m---> 11\u001b[0;31m \u001b[0mdancing\u001b[0m\u001b[0;34m(\u001b[0m\u001b[0;34m)\u001b[0m\u001b[0;34m\u001b[0m\u001b[0;34m\u001b[0m\u001b[0m\n\u001b[0m",
            "\u001b[0;32m<ipython-input-54-2b9771360819>\u001b[0m in \u001b[0;36mdancing\u001b[0;34m()\u001b[0m\n\u001b[1;32m      6\u001b[0m \u001b[0;34m\u001b[0m\u001b[0m\n\u001b[1;32m      7\u001b[0m \u001b[0;32mdef\u001b[0m \u001b[0mdancing\u001b[0m\u001b[0;34m(\u001b[0m\u001b[0;34m)\u001b[0m\u001b[0;34m:\u001b[0m\u001b[0;34m\u001b[0m\u001b[0;34m\u001b[0m\u001b[0m\n\u001b[0;32m----> 8\u001b[0;31m   \u001b[0mprint\u001b[0m\u001b[0;34m(\u001b[0m\u001b[0mhair\u001b[0m\u001b[0;34m*\u001b[0m\u001b[0;36m2\u001b[0m\u001b[0;34m*\u001b[0m\u001b[0;36m4253\u001b[0m\u001b[0;34m)\u001b[0m\u001b[0;34m\u001b[0m\u001b[0;34m\u001b[0m\u001b[0m\n\u001b[0m\u001b[1;32m      9\u001b[0m \u001b[0;34m\u001b[0m\u001b[0m\n\u001b[1;32m     10\u001b[0m \u001b[0mcooking\u001b[0m\u001b[0;34m(\u001b[0m\u001b[0;34m)\u001b[0m\u001b[0;34m\u001b[0m\u001b[0;34m\u001b[0m\u001b[0m\n",
            "\u001b[0;31mNameError\u001b[0m: name 'hair' is not defined"
          ]
        }
      ]
    },
    {
      "cell_type": "code",
      "source": [
        "def recipe():#header\n",
        "  cup = 2\n",
        "\n"
      ],
      "metadata": {
        "id": "Jb80QeQPW93R"
      },
      "execution_count": null,
      "outputs": []
    }
  ]
}