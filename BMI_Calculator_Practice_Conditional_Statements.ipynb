{
  "nbformat": 4,
  "nbformat_minor": 0,
  "metadata": {
    "colab": {
      "provenance": [],
      "include_colab_link": true
    },
    "kernelspec": {
      "name": "python3",
      "display_name": "Python 3"
    },
    "language_info": {
      "name": "python"
    }
  },
  "cells": [
    {
      "cell_type": "markdown",
      "metadata": {
        "id": "view-in-github",
        "colab_type": "text"
      },
      "source": [
        "<a href=\"https://colab.research.google.com/github/kzukeri/portfolio/blob/main/BMI_Calculator_Practice_Conditional_Statements.ipynb\" target=\"_parent\"><img src=\"https://colab.research.google.com/assets/colab-badge.svg\" alt=\"Open In Colab\"/></a>"
      ]
    },
    {
      "cell_type": "markdown",
      "source": [
        "**Practice** **Operators**"
      ],
      "metadata": {
        "id": "voYilLi47O3X"
      }
    },
    {
      "cell_type": "markdown",
      "source": [
        "**Obesity is a very important risk factor to many diseases especially type 2 diabetes. However very little epidemiological information is available in Ghana to support intervention activities.**"
      ],
      "metadata": {
        "id": "AspRprUN95oq"
      }
    },
    {
      "cell_type": "markdown",
      "source": [
        "3. Create a Python formula/code that calculates the BMI of a person based on their weight (in kilograms) and height (in meters). **Create three variables: BMI is a measure of body fat based, an individual's weight, and an individual's height. ** Print the BMI as a float, and add comments describing the level of measurement.\n",
        "\n",
        "\n",
        "When using English measurements, ounces (oz) and fractions must be changed to decimal values. Then, calculate BMI by dividing weight in pounds (lb) by height in inches (in) squared and multiplying by a conversion factor of 703."
      ],
      "metadata": {
        "id": "wliSbVaW7aK4"
      }
    },
    {
      "cell_type": "code",
      "source": [
        "#this uses kg for the weight\n",
        "weight=190\n",
        "height=70\n",
        "bmi=(weight / (height**2)) * 703\n",
        "print(bmi)"
      ],
      "metadata": {
        "id": "tP2OsvpJ8LQi",
        "colab": {
          "base_uri": "https://localhost:8080/"
        },
        "outputId": "5da8ac34-0036-4b56-f4bc-43c15f477351"
      },
      "execution_count": 3,
      "outputs": [
        {
          "output_type": "stream",
          "name": "stdout",
          "text": [
            "27.259183673469387\n"
          ]
        }
      ]
    },
    {
      "cell_type": "markdown",
      "source": [
        "Let’s calculate Sam’s BMI using the English numeric system. His weight is 37 pounds and 4 ounces and his height is 41 1/2 inches."
      ],
      "metadata": {
        "id": "XJ0OO9BG9J1y"
      }
    },
    {
      "cell_type": "code",
      "source": [],
      "metadata": {
        "id": "sX5HxU0X9L7Y",
        "colab": {
          "base_uri": "https://localhost:8080/"
        },
        "outputId": "8c9e28b4-0988-45ae-c2fe-b97fae65c3b0"
      },
      "execution_count": null,
      "outputs": [
        {
          "output_type": "stream",
          "name": "stdout",
          "text": [
            "37.25\n",
            "15.204964436057484\n"
          ]
        }
      ]
    },
    {
      "cell_type": "markdown",
      "source": [
        "**Create a conditional statement that confirms an individual's BMI classification based on their BMI value**"
      ],
      "metadata": {
        "id": "DFPvvzBv622B"
      }
    },
    {
      "cell_type": "markdown",
      "source": [
        "Severely underweight - BMI less than 16.5kg/m^2\n",
        "\n",
        "Underweight - BMI under 18.5 kg/m^2\n",
        "\n",
        "Normal weight - BMI greater than or equal to 18.5 to 24.9 kg/m^2\n",
        "\n",
        "Overweight – BMI greater than or equal to 25 to 29.9 kg/m^2\n",
        "\n",
        "Obesity – BMI greater than or equal to 30 kg/m^2\n",
        "\n",
        "  Obesity class I – BMI 30 to 34.9 kg/m^2\n",
        "\n",
        "  Obesity class II – BMI 35 to 39.9 kg/m^2\n",
        "\n",
        "  Obesity class III – BMI greater than or equal to 40 kg/m^2 (also referred to as severe, extreme, or massive obesity)"
      ],
      "metadata": {
        "id": "SMT3i1_T5tXY"
      }
    },
    {
      "cell_type": "code",
      "source": [],
      "metadata": {
        "id": "f6eZDIgJ5v42",
        "outputId": "824eb247-f137-440b-fa28-a8af6f977b8f",
        "colab": {
          "base_uri": "https://localhost:8080/"
        }
      },
      "execution_count": null,
      "outputs": [
        {
          "output_type": "stream",
          "name": "stdout",
          "text": [
            "Obese\n"
          ]
        }
      ]
    },
    {
      "cell_type": "markdown",
      "source": [
        "Formula the Canada verision of BMI.\n",
        "\n",
        "Body Mass Index is a simple calculation using a person's height and weight. The formula is BMI = kg/m2 where kg is a person's weight in kilograms and m2 is their height in metres squared. A BMI of 25.0 or more is overweight, while the healthy range is 18.5 to 24.9. BMI applies to most adults 18-65 years."
      ],
      "metadata": {
        "id": "grbB28x78ZrM"
      }
    },
    {
      "cell_type": "code",
      "source": [],
      "metadata": {
        "id": "1RBaeDNF8gQT",
        "colab": {
          "base_uri": "https://localhost:8080/"
        },
        "outputId": "9d306278-2bd2-4cb0-f708-5f26324e3350"
      },
      "execution_count": null,
      "outputs": [
        {
          "output_type": "stream",
          "name": "stdout",
          "text": [
            "0.14285714285714285\n"
          ]
        }
      ]
    }
  ]
}