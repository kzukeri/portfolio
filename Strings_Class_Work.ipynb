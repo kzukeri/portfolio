{
  "nbformat": 4,
  "nbformat_minor": 0,
  "metadata": {
    "colab": {
      "provenance": [],
      "include_colab_link": true
    },
    "kernelspec": {
      "name": "python3",
      "display_name": "Python 3"
    },
    "language_info": {
      "name": "python"
    }
  },
  "cells": [
    {
      "cell_type": "markdown",
      "metadata": {
        "id": "view-in-github",
        "colab_type": "text"
      },
      "source": [
        "<a href=\"https://colab.research.google.com/github/kzukeri/portfolio/blob/main/Strings_Class_Work.ipynb\" target=\"_parent\"><img src=\"https://colab.research.google.com/assets/colab-badge.svg\" alt=\"Open In Colab\"/></a>"
      ]
    },
    {
      "cell_type": "code",
      "source": [
        "print(\"This program will check to see if two values are the same.\")\n",
        "string1 = input(\"Enter a name: \")\n",
        "string2 = input(\"Enter another name: \")\n",
        "\n",
        "if string1 == string2:\n",
        "    print(\"They are the same!\")\n",
        "else:\n",
        "    print(\"They are not the same.\")\n"
      ],
      "metadata": {
        "id": "ECS6xfdINh2M",
        "colab": {
          "base_uri": "https://localhost:8080/"
        },
        "outputId": "dbf11f71-aee2-49c4-b0e9-8ed863735c9b"
      },
      "execution_count": null,
      "outputs": [
        {
          "output_type": "stream",
          "name": "stdout",
          "text": [
            "This program will check to see if two values are the same.\n",
            "Enter a name: Kweli\n",
            "Enter another name: Kwelio\n",
            "They are not the same.\n"
          ]
        }
      ]
    },
    {
      "cell_type": "code",
      "source": [
        "\n",
        "string11 = \"It's Friday!\"\n",
        "string12 = \"It's Friday!\"\n",
        "print(string11 is string12)\n"
      ],
      "metadata": {
        "id": "GZ7WxBArSYdP",
        "colab": {
          "base_uri": "https://localhost:8080/"
        },
        "outputId": "7b0c8867-ed11-4cb5-99e5-0a0ab1b09e64"
      },
      "execution_count": null,
      "outputs": [
        {
          "output_type": "stream",
          "name": "stdout",
          "text": [
            "False\n"
          ]
        }
      ]
    },
    {
      "cell_type": "code",
      "execution_count": 1,
      "metadata": {
        "id": "pBjdRBDuU_2O",
        "colab": {
          "base_uri": "https://localhost:8080/"
        },
        "outputId": "c9a8eca2-d029-4730-d8af-eb050a73f135"
      },
      "outputs": [
        {
          "output_type": "stream",
          "name": "stdout",
          "text": [
            "17\n"
          ]
        }
      ],
      "source": [
        "welcome = \"Hello Black World\"\n",
        "length = len(welcome)\n",
        "print(length)\n"
      ]
    },
    {
      "cell_type": "code",
      "source": [
        "my_string = \"Hello!\"\n",
        "character = my_string[5]\n",
        "print(character)\n"
      ],
      "metadata": {
        "id": "FCpaBYt2VTte",
        "colab": {
          "base_uri": "https://localhost:8080/"
        },
        "outputId": "ffaac835-747f-44b4-ce79-6d5b8e48abf1"
      },
      "execution_count": 2,
      "outputs": [
        {
          "output_type": "stream",
          "name": "stdout",
          "text": [
            "!\n"
          ]
        }
      ]
    },
    {
      "cell_type": "code",
      "source": [
        "my_string = \"House\"\n",
        "#my_string[0] = \"M\"\n",
        "print(my_string)\n",
        "\n",
        "my_string = \"House\"\n",
        "my_string = \"Home\"\n",
        "print(my_string)\n",
        "\n"
      ],
      "metadata": {
        "id": "OZWuFoTSVgGJ",
        "colab": {
          "base_uri": "https://localhost:8080/"
        },
        "outputId": "adefa1a1-5211-4e7b-9c4c-392b2e326331"
      },
      "execution_count": 8,
      "outputs": [
        {
          "output_type": "stream",
          "name": "stdout",
          "text": [
            "House\n",
            "Home\n"
          ]
        }
      ]
    },
    {
      "cell_type": "code",
      "source": [
        "my_string = \"The brown dog jumps over the lazy fox.\"\n",
        "\n",
        "print(\"jumps\" in my_string)\n"
      ],
      "metadata": {
        "id": "cHp10EvqWhhO",
        "colab": {
          "base_uri": "https://localhost:8080/"
        },
        "outputId": "6d14d41a-91c6-4746-bc86-b33b708d50ed"
      },
      "execution_count": 9,
      "outputs": [
        {
          "output_type": "stream",
          "name": "stdout",
          "text": [
            "True\n"
          ]
        }
      ]
    },
    {
      "cell_type": "code",
      "source": [
        "my_string = \"The brown dog jumps over the lazy fox.\"\n",
        "my_slice = my_string[4:9]\n",
        "\n",
        "print(my_slice)\n"
      ],
      "metadata": {
        "id": "Qs915wpbWvL9",
        "colab": {
          "base_uri": "https://localhost:8080/"
        },
        "outputId": "a57eca85-b1b8-45c6-c0dc-3d93a92aec06"
      },
      "execution_count": 10,
      "outputs": [
        {
          "output_type": "stream",
          "name": "stdout",
          "text": [
            "brown\n"
          ]
        }
      ]
    },
    {
      "cell_type": "code",
      "source": [
        "my_string = \"Hello world\"\n",
        "\n",
        "for char in my_string:\n",
        "    print(char,end=\"\") #use the end to prevent line breaks within the loop\n",
        "\n"
      ],
      "metadata": {
        "id": "77L6-QI3X1YQ",
        "colab": {
          "base_uri": "https://localhost:8080/"
        },
        "outputId": "8d3f7270-639f-41b0-9394-eb0458cf5678"
      },
      "execution_count": 14,
      "outputs": [
        {
          "output_type": "stream",
          "name": "stdout",
          "text": [
            "Hello world"
          ]
        }
      ]
    },
    {
      "cell_type": "code",
      "source": [
        "string1 = \"It's Friday!\"\n",
        "string2 = \"It's friday!\"\n",
        "print(string1 == string2)\n"
      ],
      "metadata": {
        "id": "hjJ5UB5IYHt7"
      },
      "execution_count": null,
      "outputs": []
    },
    {
      "cell_type": "code",
      "source": [
        "NameF = input(\"What is your first name? \")\n",
        "NameMI = input(\"What is your middle intial? \")\n",
        "NameL = input(\"What is your last name? \")\n",
        "\n",
        "print (NameF + NameMI + NameL)\n",
        "\n",
        "print(NameF + ' '+ NameMI + ' '+ NameL)"
      ],
      "metadata": {
        "id": "JQ6AVu2iYalx"
      },
      "execution_count": null,
      "outputs": []
    },
    {
      "cell_type": "code",
      "source": [
        "print(\"This program will check to see if two values are the same.\")\n",
        "string1 = input(\"Enter a value: \").lower()\n",
        "string2 = input(\"Enter another value: \").lower()\n",
        "if string1 == string2:\n",
        "    print(\"They are the same!\")\n",
        "else:\n",
        "    print(\"They are not the same.\")\n"
      ],
      "metadata": {
        "id": "ofrzds55YrsP"
      },
      "execution_count": null,
      "outputs": []
    },
    {
      "cell_type": "code",
      "source": [
        "print(string2)"
      ],
      "metadata": {
        "id": "k8tdDJ5KZFzU"
      },
      "execution_count": null,
      "outputs": []
    },
    {
      "cell_type": "code",
      "source": [
        "age = int(input(\"Enter your age: \"))\n",
        "\n",
        "if age < 18:\n",
        "    print(\"You are underage.\")\n",
        "elif age >= 18 and age < 65:\n",
        "    print(\"You are an adult.\")\n",
        "else:\n",
        "    print(\"You are a senior citizen.\")"
      ],
      "metadata": {
        "id": "folL2CP0ZPlG"
      },
      "execution_count": null,
      "outputs": []
    }
  ]
}